{
 "cells": [
  {
   "cell_type": "markdown",
   "id": "22cddd69-ebe9-49c7-9afb-be301789a11e",
   "metadata": {},
   "source": [
    "## Here, we are going load in the models we want and test their ability to pivot to another word than the one specified"
   ]
  },
  {
   "cell_type": "code",
   "execution_count": 1,
   "id": "f4c323de-8baa-4de0-a885-367fa6cc9ae3",
   "metadata": {},
   "outputs": [],
   "source": [
    "%%capture\n",
    "\n",
    "#packages used:\n",
    "! pip install pandas openpyxl\n",
    "! pip install pyarrow\n",
    "!pip install nltk\n",
    "!pip install gensim\n",
    "!pip install matplotlib\n",
    "!pip install scikit-learn\n",
    "!pip install transformers\n",
    "!pip install torch"
   ]
  },
  {
   "cell_type": "code",
   "execution_count": 2,
   "id": "1843c9de-697a-447d-ab9f-7e996e6d2891",
   "metadata": {},
   "outputs": [],
   "source": [
    "#importing said packages:\n",
    "import gensim.downloader\n",
    "import matplotlib.pyplot as plt\n",
    "from sklearn.decomposition import TruncatedSVD\n",
    "from sklearn.decomposition import PCA\n",
    "import ast\n",
    "import re  \n",
    "import os\n",
    "import pandas as pd\n",
    "\n",
    "#this cell sometimes does not want to download the right packages, the only fix is starting kernel from the beginning untill it wants to cooperate... coding is fun .... "
   ]
  },
  {
   "cell_type": "markdown",
   "id": "f35265d3-a1a3-4b2c-84fd-2a3ba4c53bee",
   "metadata": {},
   "source": [
    "## importing my own models \n"
   ]
  },
  {
   "cell_type": "code",
   "execution_count": 3,
   "id": "9ebaa951-62f7-4b6e-9d5f-689787936242",
   "metadata": {},
   "outputs": [],
   "source": [
    "# the model came from here: http://vectors.nlpl.eu/repository/"
   ]
  },
  {
   "cell_type": "code",
   "execution_count": 4,
   "id": "c593b493-e487-41de-bda0-5f87dcb2da25",
   "metadata": {},
   "outputs": [
    {
     "name": "stdout",
     "output_type": "stream",
     "text": [
      "Current working directory: /work/examnproject\n"
     ]
    }
   ],
   "source": [
    "\n",
    "\n",
    "# Get the current working directory\n",
    "cwd = os.getcwd()\n",
    "print(\"Current working directory:\", cwd)\n"
   ]
  },
  {
   "cell_type": "code",
   "execution_count": 5,
   "id": "351d9173-d5be-435e-82f9-4728aa6099bc",
   "metadata": {},
   "outputs": [],
   "source": [
    "from gensim.models import KeyedVectors\n"
   ]
  },
  {
   "cell_type": "code",
   "execution_count": 6,
   "id": "aee8bc9c-9198-4f1e-aac6-58684291bbd9",
   "metadata": {},
   "outputs": [],
   "source": [
    "# Path to the unzipped model file\n",
    "model_path = \"model38/model.bin\"\n"
   ]
  },
  {
   "cell_type": "code",
   "execution_count": 7,
   "id": "a2a4b88a-899b-4835-b22f-1fb9c608835b",
   "metadata": {},
   "outputs": [],
   "source": [
    "# Load model\n",
    "model = KeyedVectors.load_word2vec_format(model_path, binary=True)"
   ]
  },
  {
   "cell_type": "code",
   "execution_count": 8,
   "id": "08993075-16d8-438c-b758-04e63b9ebc40",
   "metadata": {},
   "outputs": [
    {
     "name": "stdout",
     "output_type": "stream",
     "text": [
      "[('teamet', 0.7516712546348572), ('-team', 0.7224502563476562), ('teams', 0.709422767162323), ('htc-columbia', 0.7059168219566345), ('telesikring', 0.7049045562744141), ('udviklingshold', 0.6949076652526855), ('cannondale-drapac', 0.6894566416740417), ('relocations', 0.6878243684768677), ('sponsor', 0.6869547367095947), ('htc-highroad', 0.685955822467804)]\n",
      "[('herresko', 0.9158865213394165), ('støvler', 0.8998011946678162), ('sneakers', 0.888071596622467), ('træningssko', 0.8840520977973938), ('sportssko', 0.883760929107666), ('sandaler', 0.8821766972541809), ('damesko', 0.8807766437530518), ('løbesko', 0.8600214719772339), ('solbriller', 0.8395289182662964), ('nike', 0.8378177285194397)]\n"
     ]
    }
   ],
   "source": [
    "# trying to get similar words out as sanity check \n",
    "print(model.most_similar(\"team\"))\n",
    "print(model.most_similar(\"sko\",  topn=10))"
   ]
  },
  {
   "cell_type": "markdown",
   "id": "e3aa7e29-60aa-49ff-8644-a2b9e392025d",
   "metadata": {},
   "source": [
    "## cool, so thats doable! now we just need to make a little if then script for our words"
   ]
  },
  {
   "cell_type": "code",
   "execution_count": 9,
   "id": "d943b790-e4a8-430c-afca-8443b785d162",
   "metadata": {},
   "outputs": [],
   "source": [
    "borrowings = pd.read_csv('combined_loan_types_annotation.csv')"
   ]
  },
  {
   "cell_type": "code",
   "execution_count": 10,
   "id": "a906fe90-b537-49c4-a80f-555118f841b8",
   "metadata": {},
   "outputs": [],
   "source": [
    "def process_matches(matches):\n",
    "    results = []\n",
    "    matches_list = eval(matches)  # Convert the string into a Python list\n",
    "    for word in matches_list:\n",
    "        try:\n",
    "            # Find the top most similar words using Gensim's `most_similar`\n",
    "            neighbors = model.most_similar(word, topn=1)\n",
    "            # Only include the words, stripping out the similarity score\n",
    "            neighbor_strings = \", \".join([sim_word for sim_word, _ in neighbors])\n",
    "            results.append(f\"{neighbor_strings}\")\n",
    "        except KeyError:\n",
    "            # Handle words not found in the vocabulary\n",
    "            results.append(f\"{word}: NA\")\n",
    "    return results\n",
    "\n",
    "# Apply the function to the 'matches' column\n",
    "borrowings['results'] = borrowings['matches'].apply(process_matches)\n",
    "\n",
    "borrowings.to_csv(\"norwegian_model_output.csv\", index=False)\n"
   ]
  },
  {
   "cell_type": "code",
   "execution_count": 11,
   "id": "34d27c04-b864-4a6e-a93e-4904a04c73ad",
   "metadata": {},
   "outputs": [],
   "source": [
    "# that made vanishingly little sense, most of the words are simply nonsense, even though it seems to have been trained on danish it cannot pivot to actually using danish words, and instead just jump to english ones instead."
   ]
  },
  {
   "cell_type": "markdown",
   "id": "0e0ee700-d9cc-44cb-a827-ee9d7efe20b1",
   "metadata": {},
   "source": [
    "## trying out a model made by det kongelige bibliotek to see if there is any difference here"
   ]
  },
  {
   "cell_type": "code",
   "execution_count": 12,
   "id": "3fe9414d-d48d-472f-ab49-3139888dc5d8",
   "metadata": {},
   "outputs": [],
   "source": [
    "# https://loar.kb.dk/items/33396585-6918-4cf0-8f76-723594766f37/full"
   ]
  },
  {
   "cell_type": "code",
   "execution_count": 13,
   "id": "49bba379-7820-4439-a256-c93c636040d7",
   "metadata": {},
   "outputs": [],
   "source": [
    "from gensim.models import KeyedVectors\n",
    "\n",
    "# Path to the unzipped model file\n",
    "model_path = \"detkongeligebibmodel/danish_newspapers_1880To2013.txt\"\n",
    "\n",
    "# Load the model\n",
    "model = KeyedVectors.load_word2vec_format(model_path, binary=False)\n"
   ]
  },
  {
   "cell_type": "code",
   "execution_count": 14,
   "id": "d3a27599-df1a-4b80-95a0-08c309deb1e4",
   "metadata": {},
   "outputs": [
    {
     "name": "stdout",
     "output_type": "stream",
     "text": [
      "[('støvler', 0.6931237578392029), ('sportssko', 0.689819872379303), ('kondisko', 0.688792884349823), ('sandaler', 0.6795092225074768), ('stevler', 0.6603671312332153), ('stovler', 0.6523772478103638), ('stovter', 0.6519072651863098), ('skonngen', 0.6480602622032166), ('ecco', 0.6375078558921814), ('skindsko', 0.6374098658561707)]\n"
     ]
    }
   ],
   "source": [
    "\n",
    "# Example: Find most similar words\n",
    "print(model.most_similar(\"sko\"))\n"
   ]
  },
  {
   "cell_type": "code",
   "execution_count": 15,
   "id": "4daaba2f-4c67-496e-9416-219c2c142a89",
   "metadata": {},
   "outputs": [],
   "source": [
    "# Function to process matches and find similar words\n",
    "def process_matches(matches):\n",
    "    results = []\n",
    "    matches_list = eval(matches)  # Convert the string into a Python list if matches are stored as strings\n",
    "    for word in matches_list:\n",
    "        try:\n",
    "            # Find the top 3 most similar words directly using KeyedVectors\n",
    "            neighbors = model.most_similar(word, topn=1)\n",
    "            # Only include the words, stripping out the score part\n",
    "            neighbor_strings = \", \".join([sim_word for sim_word, _ in neighbors])  # Only the word, no score\n",
    "            results.append(f\"{neighbor_strings}\")\n",
    "        except KeyError:\n",
    "            # If the word is not in the vocabulary, append it with a placeholder\n",
    "            results.append(f\"{word}: [NA]\")\n",
    "    return results\n",
    "\n",
    "# Apply the function to the 'matches' column\n",
    "borrowings['results'] = borrowings['matches'].apply(process_matches)\n",
    "\n",
    "borrowings.to_csv(\"royal_lib_model_output.csv\", index=False)"
   ]
  },
  {
   "cell_type": "code",
   "execution_count": 16,
   "id": "91721dd0-eb54-4b8c-bf65-59b06e288bed",
   "metadata": {},
   "outputs": [],
   "source": [
    "royal_lib_model_output = pd.read_csv('royal_lib_model_output.csv')"
   ]
  },
  {
   "cell_type": "markdown",
   "id": "c5a4e5d8-922a-41c6-b44f-31ec99e89f30",
   "metadata": {},
   "source": [
    "## trying again with a new model"
   ]
  },
  {
   "cell_type": "code",
   "execution_count": 17,
   "id": "75a46799-9b74-426a-a828-120fac8341e6",
   "metadata": {},
   "outputs": [
    {
     "name": "stdout",
     "output_type": "stream",
     "text": [
      "Collecting fasttext\n",
      "  Downloading fasttext-0.9.3.tar.gz (73 kB)\n",
      "  Installing build dependencies ... \u001b[?25ldone\n",
      "\u001b[?25h  Getting requirements to build wheel ... \u001b[?25ldone\n",
      "\u001b[?25h  Preparing metadata (pyproject.toml) ... \u001b[?25ldone\n",
      "\u001b[?25hCollecting pybind11>=2.2 (from fasttext)\n",
      "  Using cached pybind11-2.13.6-py3-none-any.whl.metadata (9.5 kB)\n",
      "Requirement already satisfied: setuptools>=0.7.0 in /opt/conda/lib/python3.12/site-packages (from fasttext) (75.3.0)\n",
      "Requirement already satisfied: numpy in /opt/conda/lib/python3.12/site-packages (from fasttext) (1.26.4)\n",
      "Using cached pybind11-2.13.6-py3-none-any.whl (243 kB)\n",
      "Building wheels for collected packages: fasttext\n",
      "  Building wheel for fasttext (pyproject.toml) ... \u001b[?25ldone\n",
      "\u001b[?25h  Created wheel for fasttext: filename=fasttext-0.9.3-cp312-cp312-linux_x86_64.whl size=345785 sha256=a46935f3eab375f0bf67373b5e44edff5c11ee1139fff2c66f71babb6080d0f0\n",
      "  Stored in directory: /home/ucloud/.cache/pip/wheels/20/27/95/a7baf1b435f1cbde017cabdf1e9688526d2b0e929255a359c6\n",
      "Successfully built fasttext\n",
      "Installing collected packages: pybind11, fasttext\n",
      "Successfully installed fasttext-0.9.3 pybind11-2.13.6\n"
     ]
    }
   ],
   "source": [
    "! pip install fasttext\n"
   ]
  },
  {
   "cell_type": "code",
   "execution_count": 18,
   "id": "f9601aca-6dbd-4110-b1c2-fe411980f5c1",
   "metadata": {},
   "outputs": [],
   "source": [
    "import fasttext\n",
    "\n",
    "# Load the FastText model\n",
    "model_path = 'fasttextwordvectors/cc.da.300.bin'  # Replace with the correct path\n",
    "ft = fasttext.load_model(model_path)\n"
   ]
  },
  {
   "cell_type": "code",
   "execution_count": 19,
   "id": "f535ba69-de10-438c-a2fe-7b688adfb60d",
   "metadata": {},
   "outputs": [],
   "source": [
    "import ast\n",
    "import re  # Import regular expressions module\n",
    "\n",
    "# Function to process matches and find similar words\n",
    "def process_matches(matches):\n",
    "    results = []\n",
    "    matches_list = eval(matches)  # Convert the string into a Python list\n",
    "    for word in matches_list:\n",
    "        # Get the nearest neighbors for the word\n",
    "        neighbors = ft.get_nearest_neighbors(word, k=1)  # Find 3 nearest neighbors\n",
    "        # Only include the words, stripping out the score part\n",
    "        neighbor_strings = \", \".join([sim_word for _, sim_word in neighbors])  # Only the word, no score\n",
    "        results.append(f\"{neighbor_strings}\")\n",
    "    return results\n",
    "\n",
    "# Apply the function to the matches column\n",
    "borrowings['results'] = borrowings['matches'].apply(process_matches)"
   ]
  },
  {
   "cell_type": "code",
   "execution_count": 20,
   "id": "af02a06d-77d0-42c8-831d-d41c6e423d7c",
   "metadata": {},
   "outputs": [],
   "source": [
    "borrowings.to_csv(\"trained_on_fb.csv\", index=False)\n"
   ]
  },
  {
   "cell_type": "code",
   "execution_count": 21,
   "id": "d4596b54-7f9e-4a47-8f15-cd2b48e0439a",
   "metadata": {},
   "outputs": [],
   "source": [
    "trained_on_fb = pd.read_csv('trained_on_fb.csv')"
   ]
  },
  {
   "cell_type": "markdown",
   "id": "8c45072d-66f6-4191-a97e-44edb4661370",
   "metadata": {},
   "source": [
    "## norwegian language model"
   ]
  },
  {
   "cell_type": "code",
   "execution_count": 22,
   "id": "094e049d-dc1c-4e1e-8018-c4668aee4d89",
   "metadata": {},
   "outputs": [],
   "source": [
    "\n",
    "# Load the FastText model\n",
    "model_path = 'norsksporgmodel/cc.no.300.bin'  # Replace with the correct path\n",
    "ft = fasttext.load_model(model_path)"
   ]
  },
  {
   "cell_type": "code",
   "execution_count": 23,
   "id": "ab73a717-df85-4649-ac19-d02349871b04",
   "metadata": {},
   "outputs": [],
   "source": [
    "# Apply the function to the matches column\n",
    "borrowings['results'] = borrowings['matches'].apply(process_matches)"
   ]
  },
  {
   "cell_type": "code",
   "execution_count": 24,
   "id": "ee5c78ce-afe4-4251-bdb5-120a2505fe7b",
   "metadata": {},
   "outputs": [],
   "source": [
    "borrowings.to_csv(\"trained_on_norwegian.csv\", index=False)"
   ]
  },
  {
   "cell_type": "code",
   "execution_count": 25,
   "id": "a88b5896-9a17-49ba-a746-718dcefa4e20",
   "metadata": {},
   "outputs": [],
   "source": [
    "trained_on_norwegian = pd.read_csv('trained_on_norwegian.csv')"
   ]
  },
  {
   "cell_type": "markdown",
   "id": "13379951-e82e-4312-8c07-ef2213bfdc7f",
   "metadata": {},
   "source": [
    "## Making new sentences from the newly found matches"
   ]
  },
  {
   "cell_type": "code",
   "execution_count": 26,
   "id": "86d3acbd-8aea-4a35-8da8-cfbcc5a607fc",
   "metadata": {},
   "outputs": [],
   "source": [
    "norwegian_model_output = pd.read_csv('norwegian_model_output.csv')"
   ]
  },
  {
   "cell_type": "code",
   "execution_count": 27,
   "id": "5059eacb-301b-45d9-b330-738bd8ce35f6",
   "metadata": {},
   "outputs": [],
   "source": [
    "import pandas as pd\n",
    "\n",
    "# Function to replace matches with results\n",
    "def replace_words(sentence, matches, results):\n",
    "    # Convert columns to expected types if they are not\n",
    "    if not isinstance(sentence, str):\n",
    "        sentence = str(sentence) if pd.notnull(sentence) else \"\"\n",
    "    if not isinstance(matches, list):\n",
    "        try:\n",
    "            matches = eval(matches) if isinstance(matches, str) else []\n",
    "        except:\n",
    "            matches = []\n",
    "    if not isinstance(results, list):\n",
    "        try:\n",
    "            results = eval(results) if isinstance(results, str) else []\n",
    "        except:\n",
    "            results = []\n",
    "\n",
    "    # Debugging: Print the types of the columns\n",
    "    #print(f\"DEBUG: Sentence type: {type(sentence)}, Matches type: {type(matches)}, Results type: {type(results)}\")\n",
    "\n",
    "    # Replace matches with results in the sentence\n",
    "    for match, result in zip(matches, results):\n",
    "        sentence = sentence.replace(match, result)\n",
    "    return sentence\n",
    "\n",
    "# Apply the function to create the new column\n",
    "norwegian_model_output['Alternative_Sentence'] = norwegian_model_output.apply(\n",
    "    lambda row: replace_words(row['Tokens'], row['matches'], row['results']),\n",
    "    axis=1\n",
    ")\n",
    "\n",
    "# Print the resulting DataFrame\n",
    "#print(norwegian_model_output)\n"
   ]
  },
  {
   "cell_type": "code",
   "execution_count": 28,
   "id": "e8efabb2-29a4-4a43-b7f6-a93ff7ab9fd6",
   "metadata": {},
   "outputs": [],
   "source": [
    "new_norwegian_model_output = norwegian_model_output"
   ]
  },
  {
   "cell_type": "code",
   "execution_count": 29,
   "id": "29300bf4-ec73-4206-bfa3-c60a3082e610",
   "metadata": {},
   "outputs": [],
   "source": [
    "new_norwegian_model_output.to_csv(\"new_norwegian_model_output.csv\", index=False)"
   ]
  },
  {
   "cell_type": "code",
   "execution_count": 30,
   "id": "14d72ace-50aa-4511-93d1-c1fcf0aeb2ab",
   "metadata": {},
   "outputs": [],
   "source": [
    "# Apply the function to create the new column\n",
    "royal_lib_model_output['Alternative_Sentence'] = royal_lib_model_output.apply(\n",
    "    lambda row: replace_words(row['Tokens'], row['matches'], row['results']),\n",
    "    axis=1\n",
    ")\n"
   ]
  },
  {
   "cell_type": "code",
   "execution_count": 31,
   "id": "318d0106-fe51-4325-90a9-ae79775cfbad",
   "metadata": {},
   "outputs": [],
   "source": [
    "royal_lib_model_output.to_csv(\"royal_lib_model_output.csv\", index=False)"
   ]
  },
  {
   "cell_type": "code",
   "execution_count": 32,
   "id": "bb7d7b3c-0fac-4cc4-9522-0c8fa01745ed",
   "metadata": {},
   "outputs": [],
   "source": [
    "royal_lib_model_output = pd.read_csv('royal_lib_model_output.csv')"
   ]
  },
  {
   "cell_type": "code",
   "execution_count": 33,
   "id": "52bc822d-5546-4f58-bd8a-f8dddac12b69",
   "metadata": {},
   "outputs": [],
   "source": [
    "new_royal_lib_model_output = royal_lib_model_output"
   ]
  },
  {
   "cell_type": "code",
   "execution_count": 34,
   "id": "2d179086-327d-489f-92e5-4f81942c3b94",
   "metadata": {},
   "outputs": [],
   "source": [
    "# Apply the function to create the new column\n",
    "trained_on_fb['Alternative_Sentence'] = trained_on_fb.apply(\n",
    "    lambda row: replace_words(row['Tokens'], row['matches'], row['results']),\n",
    "    axis=1\n",
    ")\n"
   ]
  },
  {
   "cell_type": "code",
   "execution_count": 35,
   "id": "61759a3e-385a-417e-9237-fcc74b753903",
   "metadata": {},
   "outputs": [],
   "source": [
    "new_trained_on_fb = trained_on_fb"
   ]
  },
  {
   "cell_type": "code",
   "execution_count": 36,
   "id": "3afeeb2e-1ec5-4963-aa17-fd05a6faa05f",
   "metadata": {},
   "outputs": [],
   "source": [
    "new_trained_on_fb.to_csv(\"new_trained_on_fb.csv\", index=False)"
   ]
  },
  {
   "cell_type": "code",
   "execution_count": 37,
   "id": "5ba962af-d8d0-4868-b6d2-a556e5afd715",
   "metadata": {},
   "outputs": [],
   "source": [
    "trained_on_norwegian['Alternative_Sentence'] = trained_on_norwegian.apply(\n",
    "    lambda row: replace_words(row['Tokens'], row['matches'], row['results']),\n",
    "    axis=1\n",
    ")"
   ]
  },
  {
   "cell_type": "code",
   "execution_count": 38,
   "id": "87d88803-9348-403f-8cd0-24e51fb8e0fd",
   "metadata": {},
   "outputs": [],
   "source": [
    "new_trained_on_norwegian = trained_on_norwegian"
   ]
  },
  {
   "cell_type": "code",
   "execution_count": 39,
   "id": "0343106c-50d1-4f62-a3fe-325a3abea189",
   "metadata": {},
   "outputs": [],
   "source": [
    "new_trained_on_norwegian.to_csv(\"new_trained_on_norwegian.csv\", index=False)"
   ]
  },
  {
   "cell_type": "markdown",
   "id": "85264bc7-6fca-41a8-a387-2f9f84296891",
   "metadata": {},
   "source": [
    "## Tring to make a loop to compare sentences with cossine simialrity"
   ]
  },
  {
   "cell_type": "code",
   "execution_count": 40,
   "id": "cc6e6580-2cd8-4dd8-931f-7f3f445d27e3",
   "metadata": {},
   "outputs": [
    {
     "data": {
      "application/vnd.jupyter.widget-view+json": {
       "model_id": "0baebdc8beac433580b0774ceea8848a",
       "version_major": 2,
       "version_minor": 0
      },
      "text/plain": [
       "tokenizer_config.json:   0%|          | 0.00/378 [00:00<?, ?B/s]"
      ]
     },
     "metadata": {},
     "output_type": "display_data"
    },
    {
     "data": {
      "application/vnd.jupyter.widget-view+json": {
       "model_id": "37661b72066744259d6da360f926c7ed",
       "version_major": 2,
       "version_minor": 0
      },
      "text/plain": [
       "vocab.txt:   0%|          | 0.00/253k [00:00<?, ?B/s]"
      ]
     },
     "metadata": {},
     "output_type": "display_data"
    },
    {
     "data": {
      "application/vnd.jupyter.widget-view+json": {
       "model_id": "733598e516d842c0af8e2ba447e6a44e",
       "version_major": 2,
       "version_minor": 0
      },
      "text/plain": [
       "tokenizer.json:   0%|          | 0.00/498k [00:00<?, ?B/s]"
      ]
     },
     "metadata": {},
     "output_type": "display_data"
    },
    {
     "data": {
      "application/vnd.jupyter.widget-view+json": {
       "model_id": "71be0e574f2e408ca49076c2769c7b05",
       "version_major": 2,
       "version_minor": 0
      },
      "text/plain": [
       "special_tokens_map.json:   0%|          | 0.00/112 [00:00<?, ?B/s]"
      ]
     },
     "metadata": {},
     "output_type": "display_data"
    },
    {
     "data": {
      "application/vnd.jupyter.widget-view+json": {
       "model_id": "c648168eb5a04ff4a7f503704bdf1138",
       "version_major": 2,
       "version_minor": 0
      },
      "text/plain": [
       "config.json:   0%|          | 0.00/846 [00:00<?, ?B/s]"
      ]
     },
     "metadata": {},
     "output_type": "display_data"
    },
    {
     "data": {
      "application/vnd.jupyter.widget-view+json": {
       "model_id": "f9a8be5db1dd491587e6fb7e12067309",
       "version_major": 2,
       "version_minor": 0
      },
      "text/plain": [
       "pytorch_model.bin:   0%|          | 0.00/445M [00:00<?, ?B/s]"
      ]
     },
     "metadata": {},
     "output_type": "display_data"
    }
   ],
   "source": [
    "import torch\n",
    "import pandas as pd\n",
    "from transformers import AutoTokenizer, AutoModel\n",
    "\n",
    "# Load Danish BERT model and tokenizer\n",
    "model_name = \"MalteHB/Danish-BERT-BotXO\"\n",
    "tokenizer = AutoTokenizer.from_pretrained(model_name)\n",
    "model = AutoModel.from_pretrained(model_name)\n",
    "\n",
    "\n",
    "# Function to compute cosine similarity between words at multiple indices\n",
    "def compute_cosine_similarity(row):\n",
    "    # Ensure that Tokens and Alternative_Sentence are treated as strings\n",
    "    sent1 = str(row['Tokens'])\n",
    "    sent2 = str(row['Alternative_Sentence'])\n",
    "    match_indices = row['match_indices']  # List of indices\n",
    "    \n",
    "    sentence_cosine = []  # List to store individual cosine similarities\n",
    "\n",
    "    # Tokenizing sentences\n",
    "    tok1 = tokenizer(sent1, return_tensors='pt', add_special_tokens=True)\n",
    "    tok2 = tokenizer(sent2, return_tensors='pt', add_special_tokens=True)\n",
    "    \n",
    "    # Extracting last hidden states and getting embeddings\n",
    "    with torch.no_grad():\n",
    "        # Ensure output_hidden_states=True to include hidden states in the output\n",
    "        out1 = model(**tok1, output_hidden_states=True)\n",
    "        out2 = model(**tok2, output_hidden_states=True)\n",
    "\n",
    "    # Extracting the hidden states (last layer)\n",
    "    states1 = out1.hidden_states[-1].squeeze()\n",
    "    states2 = out2.hidden_states[-1].squeeze()\n",
    "\n",
    "    # Iterate over each index in the match_indices list and calculate cosine similarity\n",
    "    for idx in match_indices:\n",
    "        # Ensure that idx is within the valid token index range\n",
    "        if idx < len(states1) and idx < len(states2):\n",
    "            emb1 = states1[idx]\n",
    "            emb2 = states2[idx]\n",
    "\n",
    "            # Calculating cosine similarity\n",
    "            similarity = torch.cosine_similarity(emb1.unsqueeze(0), emb2.unsqueeze(0))\n",
    "            sentence_cosine.append(similarity.item())\n",
    "        else:\n",
    "            # Handle the case where index is out of bounds\n",
    "            sentence_cosine.append(0.0)\n",
    "\n",
    "    # Calculating average cosine similarity\n",
    "    avg_cosine = sum(sentence_cosine) / len(sentence_cosine) if sentence_cosine else 0.0\n",
    "\n",
    "    return pd.Series([sentence_cosine, avg_cosine])\n",
    "\n",
    "# handle both string and list cases for match_indices\n",
    "new_norwegian_model_output['match_indices'] = new_norwegian_model_output['match_indices'].apply(\n",
    "    lambda x: [int(i) for i in x.strip('[]').split(',') if isinstance(x, str) and i.strip()] if isinstance(x, str) else x\n",
    ")\n",
    "\n",
    "# Apply the function to each row of the DataFrame and store the results in new columns\n",
    "new_norwegian_model_output[['sentence_cosine', 'avg_cosine']] = new_norwegian_model_output.apply(compute_cosine_similarity, axis=1)\n",
    "\n",
    "# Print the DataFrame with cosine similarity values\n",
    "#print(new_norwegian_model_output)\n"
   ]
  },
  {
   "cell_type": "code",
   "execution_count": 41,
   "id": "42f6a0f9-cb67-4c10-92db-43b999b74f2b",
   "metadata": {},
   "outputs": [],
   "source": [
    "new_norwegian_model_output.to_csv(\"new_norwegian_model_output.csv\", index=False)"
   ]
  },
  {
   "cell_type": "code",
   "execution_count": 42,
   "id": "cf0f8a94-a23a-4142-9e54-ece816cb280c",
   "metadata": {},
   "outputs": [],
   "source": [
    "\n",
    "# Modify this section to handle both string and list cases for match_indices\n",
    "new_royal_lib_model_output['match_indices'] = new_royal_lib_model_output['match_indices'].apply(\n",
    "    lambda x: [int(i) for i in x.strip('[]').split(',') if isinstance(x, str) and i.strip()] if isinstance(x, str) else x\n",
    ")\n",
    "\n",
    "# Apply the function to each row of the DataFrame and store the results in new columns\n",
    "new_royal_lib_model_output[['sentence_cosine', 'avg_cosine']] = new_royal_lib_model_output.apply(compute_cosine_similarity, axis=1)\n",
    "\n",
    "# Print the DataFrame with cosine similarity values\n",
    "#print(new_norwegian_model_output)\n"
   ]
  },
  {
   "cell_type": "code",
   "execution_count": 43,
   "id": "707c891f-fa25-4ee1-9862-416248e6fc7e",
   "metadata": {},
   "outputs": [],
   "source": [
    "new_royal_lib_model_output.to_csv(\"new_royal_lib_model_output.csv\", index=False)"
   ]
  },
  {
   "cell_type": "code",
   "execution_count": 44,
   "id": "b62b41a1-f5e4-4899-ae26-e2729ec0da8c",
   "metadata": {},
   "outputs": [],
   "source": [
    "\n",
    "# Modify this section to handle both string and list cases for match_indices\n",
    "new_trained_on_fb['match_indices'] = new_trained_on_fb['match_indices'].apply(\n",
    "    lambda x: [int(i) for i in x.strip('[]').split(',') if isinstance(x, str) and i.strip()] if isinstance(x, str) else x\n",
    ")\n",
    "\n",
    "# Apply the function to each row of the DataFrame and store the results in new columns\n",
    "new_trained_on_fb[['sentence_cosine', 'avg_cosine']] = new_trained_on_fb.apply(compute_cosine_similarity, axis=1)\n",
    "\n",
    "# Print the DataFrame with cosine similarity values\n",
    "#print(new_norwegian_model_output)"
   ]
  },
  {
   "cell_type": "code",
   "execution_count": 45,
   "id": "67b00992-59b2-49be-b79c-7156f8865093",
   "metadata": {},
   "outputs": [],
   "source": [
    "new_trained_on_fb.to_csv(\"new_trained_on_fb.csv\", index=False)"
   ]
  },
  {
   "cell_type": "code",
   "execution_count": 64,
   "id": "fbfacbe4-9d4b-4413-81c2-f2a5a73a3b26",
   "metadata": {},
   "outputs": [
    {
     "ename": "RuntimeError",
     "evalue": "The size of tensor a (659) must match the size of tensor b (512) at non-singleton dimension 1",
     "output_type": "error",
     "traceback": [
      "\u001b[0;31m---------------------------------------------------------------------------\u001b[0m",
      "\u001b[0;31mRuntimeError\u001b[0m                              Traceback (most recent call last)",
      "Cell \u001b[0;32mIn[64], line 7\u001b[0m\n\u001b[1;32m      2\u001b[0m new_trained_on_norwegian[\u001b[38;5;124m'\u001b[39m\u001b[38;5;124mmatch_indices\u001b[39m\u001b[38;5;124m'\u001b[39m] \u001b[38;5;241m=\u001b[39m new_trained_on_norwegian[\u001b[38;5;124m'\u001b[39m\u001b[38;5;124mmatch_indices\u001b[39m\u001b[38;5;124m'\u001b[39m]\u001b[38;5;241m.\u001b[39mapply(\n\u001b[1;32m      3\u001b[0m     \u001b[38;5;28;01mlambda\u001b[39;00m x: [\u001b[38;5;28mint\u001b[39m(i) \u001b[38;5;28;01mfor\u001b[39;00m i \u001b[38;5;129;01min\u001b[39;00m x\u001b[38;5;241m.\u001b[39mstrip(\u001b[38;5;124m'\u001b[39m\u001b[38;5;124m[]\u001b[39m\u001b[38;5;124m'\u001b[39m)\u001b[38;5;241m.\u001b[39msplit(\u001b[38;5;124m'\u001b[39m\u001b[38;5;124m,\u001b[39m\u001b[38;5;124m'\u001b[39m) \u001b[38;5;28;01mif\u001b[39;00m \u001b[38;5;28misinstance\u001b[39m(x, \u001b[38;5;28mstr\u001b[39m) \u001b[38;5;129;01mand\u001b[39;00m i\u001b[38;5;241m.\u001b[39mstrip()] \u001b[38;5;28;01mif\u001b[39;00m \u001b[38;5;28misinstance\u001b[39m(x, \u001b[38;5;28mstr\u001b[39m) \u001b[38;5;28;01melse\u001b[39;00m x\n\u001b[1;32m      4\u001b[0m )\n\u001b[1;32m      6\u001b[0m \u001b[38;5;66;03m# Apply the function to each row of the DataFrame and store the results in new columns\u001b[39;00m\n\u001b[0;32m----> 7\u001b[0m new_trained_on_norwegian[[\u001b[38;5;124m'\u001b[39m\u001b[38;5;124msentence_cosine\u001b[39m\u001b[38;5;124m'\u001b[39m, \u001b[38;5;124m'\u001b[39m\u001b[38;5;124mavg_cosine\u001b[39m\u001b[38;5;124m'\u001b[39m]] \u001b[38;5;241m=\u001b[39m \u001b[43mnew_trained_on_norwegian\u001b[49m\u001b[38;5;241;43m.\u001b[39;49m\u001b[43mapply\u001b[49m\u001b[43m(\u001b[49m\u001b[43mcompute_cosine_similarity\u001b[49m\u001b[43m,\u001b[49m\u001b[43m \u001b[49m\u001b[43maxis\u001b[49m\u001b[38;5;241;43m=\u001b[39;49m\u001b[38;5;241;43m1\u001b[39;49m\u001b[43m)\u001b[49m\n\u001b[1;32m      9\u001b[0m \u001b[38;5;66;03m# Print the DataFrame with cosine similarity values\u001b[39;00m\n\u001b[1;32m     10\u001b[0m \u001b[38;5;66;03m#print(new_norwegian_model_output)\u001b[39;00m\n",
      "File \u001b[0;32m/opt/conda/lib/python3.12/site-packages/pandas/core/frame.py:10374\u001b[0m, in \u001b[0;36mDataFrame.apply\u001b[0;34m(self, func, axis, raw, result_type, args, by_row, engine, engine_kwargs, **kwargs)\u001b[0m\n\u001b[1;32m  10360\u001b[0m \u001b[38;5;28;01mfrom\u001b[39;00m \u001b[38;5;21;01mpandas\u001b[39;00m\u001b[38;5;21;01m.\u001b[39;00m\u001b[38;5;21;01mcore\u001b[39;00m\u001b[38;5;21;01m.\u001b[39;00m\u001b[38;5;21;01mapply\u001b[39;00m \u001b[38;5;28;01mimport\u001b[39;00m frame_apply\n\u001b[1;32m  10362\u001b[0m op \u001b[38;5;241m=\u001b[39m frame_apply(\n\u001b[1;32m  10363\u001b[0m     \u001b[38;5;28mself\u001b[39m,\n\u001b[1;32m  10364\u001b[0m     func\u001b[38;5;241m=\u001b[39mfunc,\n\u001b[0;32m   (...)\u001b[0m\n\u001b[1;32m  10372\u001b[0m     kwargs\u001b[38;5;241m=\u001b[39mkwargs,\n\u001b[1;32m  10373\u001b[0m )\n\u001b[0;32m> 10374\u001b[0m \u001b[38;5;28;01mreturn\u001b[39;00m \u001b[43mop\u001b[49m\u001b[38;5;241;43m.\u001b[39;49m\u001b[43mapply\u001b[49m\u001b[43m(\u001b[49m\u001b[43m)\u001b[49m\u001b[38;5;241m.\u001b[39m__finalize__(\u001b[38;5;28mself\u001b[39m, method\u001b[38;5;241m=\u001b[39m\u001b[38;5;124m\"\u001b[39m\u001b[38;5;124mapply\u001b[39m\u001b[38;5;124m\"\u001b[39m)\n",
      "File \u001b[0;32m/opt/conda/lib/python3.12/site-packages/pandas/core/apply.py:916\u001b[0m, in \u001b[0;36mFrameApply.apply\u001b[0;34m(self)\u001b[0m\n\u001b[1;32m    913\u001b[0m \u001b[38;5;28;01melif\u001b[39;00m \u001b[38;5;28mself\u001b[39m\u001b[38;5;241m.\u001b[39mraw:\n\u001b[1;32m    914\u001b[0m     \u001b[38;5;28;01mreturn\u001b[39;00m \u001b[38;5;28mself\u001b[39m\u001b[38;5;241m.\u001b[39mapply_raw(engine\u001b[38;5;241m=\u001b[39m\u001b[38;5;28mself\u001b[39m\u001b[38;5;241m.\u001b[39mengine, engine_kwargs\u001b[38;5;241m=\u001b[39m\u001b[38;5;28mself\u001b[39m\u001b[38;5;241m.\u001b[39mengine_kwargs)\n\u001b[0;32m--> 916\u001b[0m \u001b[38;5;28;01mreturn\u001b[39;00m \u001b[38;5;28;43mself\u001b[39;49m\u001b[38;5;241;43m.\u001b[39;49m\u001b[43mapply_standard\u001b[49m\u001b[43m(\u001b[49m\u001b[43m)\u001b[49m\n",
      "File \u001b[0;32m/opt/conda/lib/python3.12/site-packages/pandas/core/apply.py:1063\u001b[0m, in \u001b[0;36mFrameApply.apply_standard\u001b[0;34m(self)\u001b[0m\n\u001b[1;32m   1061\u001b[0m \u001b[38;5;28;01mdef\u001b[39;00m \u001b[38;5;21mapply_standard\u001b[39m(\u001b[38;5;28mself\u001b[39m):\n\u001b[1;32m   1062\u001b[0m     \u001b[38;5;28;01mif\u001b[39;00m \u001b[38;5;28mself\u001b[39m\u001b[38;5;241m.\u001b[39mengine \u001b[38;5;241m==\u001b[39m \u001b[38;5;124m\"\u001b[39m\u001b[38;5;124mpython\u001b[39m\u001b[38;5;124m\"\u001b[39m:\n\u001b[0;32m-> 1063\u001b[0m         results, res_index \u001b[38;5;241m=\u001b[39m \u001b[38;5;28;43mself\u001b[39;49m\u001b[38;5;241;43m.\u001b[39;49m\u001b[43mapply_series_generator\u001b[49m\u001b[43m(\u001b[49m\u001b[43m)\u001b[49m\n\u001b[1;32m   1064\u001b[0m     \u001b[38;5;28;01melse\u001b[39;00m:\n\u001b[1;32m   1065\u001b[0m         results, res_index \u001b[38;5;241m=\u001b[39m \u001b[38;5;28mself\u001b[39m\u001b[38;5;241m.\u001b[39mapply_series_numba()\n",
      "File \u001b[0;32m/opt/conda/lib/python3.12/site-packages/pandas/core/apply.py:1081\u001b[0m, in \u001b[0;36mFrameApply.apply_series_generator\u001b[0;34m(self)\u001b[0m\n\u001b[1;32m   1078\u001b[0m \u001b[38;5;28;01mwith\u001b[39;00m option_context(\u001b[38;5;124m\"\u001b[39m\u001b[38;5;124mmode.chained_assignment\u001b[39m\u001b[38;5;124m\"\u001b[39m, \u001b[38;5;28;01mNone\u001b[39;00m):\n\u001b[1;32m   1079\u001b[0m     \u001b[38;5;28;01mfor\u001b[39;00m i, v \u001b[38;5;129;01min\u001b[39;00m \u001b[38;5;28menumerate\u001b[39m(series_gen):\n\u001b[1;32m   1080\u001b[0m         \u001b[38;5;66;03m# ignore SettingWithCopy here in case the user mutates\u001b[39;00m\n\u001b[0;32m-> 1081\u001b[0m         results[i] \u001b[38;5;241m=\u001b[39m \u001b[38;5;28;43mself\u001b[39;49m\u001b[38;5;241;43m.\u001b[39;49m\u001b[43mfunc\u001b[49m\u001b[43m(\u001b[49m\u001b[43mv\u001b[49m\u001b[43m,\u001b[49m\u001b[43m \u001b[49m\u001b[38;5;241;43m*\u001b[39;49m\u001b[38;5;28;43mself\u001b[39;49m\u001b[38;5;241;43m.\u001b[39;49m\u001b[43margs\u001b[49m\u001b[43m,\u001b[49m\u001b[43m \u001b[49m\u001b[38;5;241;43m*\u001b[39;49m\u001b[38;5;241;43m*\u001b[39;49m\u001b[38;5;28;43mself\u001b[39;49m\u001b[38;5;241;43m.\u001b[39;49m\u001b[43mkwargs\u001b[49m\u001b[43m)\u001b[49m\n\u001b[1;32m   1082\u001b[0m         \u001b[38;5;28;01mif\u001b[39;00m \u001b[38;5;28misinstance\u001b[39m(results[i], ABCSeries):\n\u001b[1;32m   1083\u001b[0m             \u001b[38;5;66;03m# If we have a view on v, we need to make a copy because\u001b[39;00m\n\u001b[1;32m   1084\u001b[0m             \u001b[38;5;66;03m#  series_generator will swap out the underlying data\u001b[39;00m\n\u001b[1;32m   1085\u001b[0m             results[i] \u001b[38;5;241m=\u001b[39m results[i]\u001b[38;5;241m.\u001b[39mcopy(deep\u001b[38;5;241m=\u001b[39m\u001b[38;5;28;01mFalse\u001b[39;00m)\n",
      "Cell \u001b[0;32mIn[40], line 28\u001b[0m, in \u001b[0;36mcompute_cosine_similarity\u001b[0;34m(row)\u001b[0m\n\u001b[1;32m     25\u001b[0m \u001b[38;5;28;01mwith\u001b[39;00m torch\u001b[38;5;241m.\u001b[39mno_grad():\n\u001b[1;32m     26\u001b[0m     \u001b[38;5;66;03m# Ensure output_hidden_states=True to include hidden states in the output\u001b[39;00m\n\u001b[1;32m     27\u001b[0m     out1 \u001b[38;5;241m=\u001b[39m model(\u001b[38;5;241m*\u001b[39m\u001b[38;5;241m*\u001b[39mtok1, output_hidden_states\u001b[38;5;241m=\u001b[39m\u001b[38;5;28;01mTrue\u001b[39;00m)\n\u001b[0;32m---> 28\u001b[0m     out2 \u001b[38;5;241m=\u001b[39m \u001b[43mmodel\u001b[49m\u001b[43m(\u001b[49m\u001b[38;5;241;43m*\u001b[39;49m\u001b[38;5;241;43m*\u001b[39;49m\u001b[43mtok2\u001b[49m\u001b[43m,\u001b[49m\u001b[43m \u001b[49m\u001b[43moutput_hidden_states\u001b[49m\u001b[38;5;241;43m=\u001b[39;49m\u001b[38;5;28;43;01mTrue\u001b[39;49;00m\u001b[43m)\u001b[49m\n\u001b[1;32m     30\u001b[0m \u001b[38;5;66;03m# Extracting the hidden states (last layer)\u001b[39;00m\n\u001b[1;32m     31\u001b[0m states1 \u001b[38;5;241m=\u001b[39m out1\u001b[38;5;241m.\u001b[39mhidden_states[\u001b[38;5;241m-\u001b[39m\u001b[38;5;241m1\u001b[39m]\u001b[38;5;241m.\u001b[39msqueeze()\n",
      "File \u001b[0;32m/opt/conda/lib/python3.12/site-packages/torch/nn/modules/module.py:1736\u001b[0m, in \u001b[0;36mModule._wrapped_call_impl\u001b[0;34m(self, *args, **kwargs)\u001b[0m\n\u001b[1;32m   1734\u001b[0m     \u001b[38;5;28;01mreturn\u001b[39;00m \u001b[38;5;28mself\u001b[39m\u001b[38;5;241m.\u001b[39m_compiled_call_impl(\u001b[38;5;241m*\u001b[39margs, \u001b[38;5;241m*\u001b[39m\u001b[38;5;241m*\u001b[39mkwargs)  \u001b[38;5;66;03m# type: ignore[misc]\u001b[39;00m\n\u001b[1;32m   1735\u001b[0m \u001b[38;5;28;01melse\u001b[39;00m:\n\u001b[0;32m-> 1736\u001b[0m     \u001b[38;5;28;01mreturn\u001b[39;00m \u001b[38;5;28;43mself\u001b[39;49m\u001b[38;5;241;43m.\u001b[39;49m\u001b[43m_call_impl\u001b[49m\u001b[43m(\u001b[49m\u001b[38;5;241;43m*\u001b[39;49m\u001b[43margs\u001b[49m\u001b[43m,\u001b[49m\u001b[43m \u001b[49m\u001b[38;5;241;43m*\u001b[39;49m\u001b[38;5;241;43m*\u001b[39;49m\u001b[43mkwargs\u001b[49m\u001b[43m)\u001b[49m\n",
      "File \u001b[0;32m/opt/conda/lib/python3.12/site-packages/torch/nn/modules/module.py:1747\u001b[0m, in \u001b[0;36mModule._call_impl\u001b[0;34m(self, *args, **kwargs)\u001b[0m\n\u001b[1;32m   1742\u001b[0m \u001b[38;5;66;03m# If we don't have any hooks, we want to skip the rest of the logic in\u001b[39;00m\n\u001b[1;32m   1743\u001b[0m \u001b[38;5;66;03m# this function, and just call forward.\u001b[39;00m\n\u001b[1;32m   1744\u001b[0m \u001b[38;5;28;01mif\u001b[39;00m \u001b[38;5;129;01mnot\u001b[39;00m (\u001b[38;5;28mself\u001b[39m\u001b[38;5;241m.\u001b[39m_backward_hooks \u001b[38;5;129;01mor\u001b[39;00m \u001b[38;5;28mself\u001b[39m\u001b[38;5;241m.\u001b[39m_backward_pre_hooks \u001b[38;5;129;01mor\u001b[39;00m \u001b[38;5;28mself\u001b[39m\u001b[38;5;241m.\u001b[39m_forward_hooks \u001b[38;5;129;01mor\u001b[39;00m \u001b[38;5;28mself\u001b[39m\u001b[38;5;241m.\u001b[39m_forward_pre_hooks\n\u001b[1;32m   1745\u001b[0m         \u001b[38;5;129;01mor\u001b[39;00m _global_backward_pre_hooks \u001b[38;5;129;01mor\u001b[39;00m _global_backward_hooks\n\u001b[1;32m   1746\u001b[0m         \u001b[38;5;129;01mor\u001b[39;00m _global_forward_hooks \u001b[38;5;129;01mor\u001b[39;00m _global_forward_pre_hooks):\n\u001b[0;32m-> 1747\u001b[0m     \u001b[38;5;28;01mreturn\u001b[39;00m \u001b[43mforward_call\u001b[49m\u001b[43m(\u001b[49m\u001b[38;5;241;43m*\u001b[39;49m\u001b[43margs\u001b[49m\u001b[43m,\u001b[49m\u001b[43m \u001b[49m\u001b[38;5;241;43m*\u001b[39;49m\u001b[38;5;241;43m*\u001b[39;49m\u001b[43mkwargs\u001b[49m\u001b[43m)\u001b[49m\n\u001b[1;32m   1749\u001b[0m result \u001b[38;5;241m=\u001b[39m \u001b[38;5;28;01mNone\u001b[39;00m\n\u001b[1;32m   1750\u001b[0m called_always_called_hooks \u001b[38;5;241m=\u001b[39m \u001b[38;5;28mset\u001b[39m()\n",
      "File \u001b[0;32m/opt/conda/lib/python3.12/site-packages/transformers/models/bert/modeling_bert.py:1078\u001b[0m, in \u001b[0;36mBertModel.forward\u001b[0;34m(self, input_ids, attention_mask, token_type_ids, position_ids, head_mask, inputs_embeds, encoder_hidden_states, encoder_attention_mask, past_key_values, use_cache, output_attentions, output_hidden_states, return_dict)\u001b[0m\n\u001b[1;32m   1075\u001b[0m     \u001b[38;5;28;01melse\u001b[39;00m:\n\u001b[1;32m   1076\u001b[0m         token_type_ids \u001b[38;5;241m=\u001b[39m torch\u001b[38;5;241m.\u001b[39mzeros(input_shape, dtype\u001b[38;5;241m=\u001b[39mtorch\u001b[38;5;241m.\u001b[39mlong, device\u001b[38;5;241m=\u001b[39mdevice)\n\u001b[0;32m-> 1078\u001b[0m embedding_output \u001b[38;5;241m=\u001b[39m \u001b[38;5;28;43mself\u001b[39;49m\u001b[38;5;241;43m.\u001b[39;49m\u001b[43membeddings\u001b[49m\u001b[43m(\u001b[49m\n\u001b[1;32m   1079\u001b[0m \u001b[43m    \u001b[49m\u001b[43minput_ids\u001b[49m\u001b[38;5;241;43m=\u001b[39;49m\u001b[43minput_ids\u001b[49m\u001b[43m,\u001b[49m\n\u001b[1;32m   1080\u001b[0m \u001b[43m    \u001b[49m\u001b[43mposition_ids\u001b[49m\u001b[38;5;241;43m=\u001b[39;49m\u001b[43mposition_ids\u001b[49m\u001b[43m,\u001b[49m\n\u001b[1;32m   1081\u001b[0m \u001b[43m    \u001b[49m\u001b[43mtoken_type_ids\u001b[49m\u001b[38;5;241;43m=\u001b[39;49m\u001b[43mtoken_type_ids\u001b[49m\u001b[43m,\u001b[49m\n\u001b[1;32m   1082\u001b[0m \u001b[43m    \u001b[49m\u001b[43minputs_embeds\u001b[49m\u001b[38;5;241;43m=\u001b[39;49m\u001b[43minputs_embeds\u001b[49m\u001b[43m,\u001b[49m\n\u001b[1;32m   1083\u001b[0m \u001b[43m    \u001b[49m\u001b[43mpast_key_values_length\u001b[49m\u001b[38;5;241;43m=\u001b[39;49m\u001b[43mpast_key_values_length\u001b[49m\u001b[43m,\u001b[49m\n\u001b[1;32m   1084\u001b[0m \u001b[43m\u001b[49m\u001b[43m)\u001b[49m\n\u001b[1;32m   1086\u001b[0m \u001b[38;5;28;01mif\u001b[39;00m attention_mask \u001b[38;5;129;01mis\u001b[39;00m \u001b[38;5;28;01mNone\u001b[39;00m:\n\u001b[1;32m   1087\u001b[0m     attention_mask \u001b[38;5;241m=\u001b[39m torch\u001b[38;5;241m.\u001b[39mones((batch_size, seq_length \u001b[38;5;241m+\u001b[39m past_key_values_length), device\u001b[38;5;241m=\u001b[39mdevice)\n",
      "File \u001b[0;32m/opt/conda/lib/python3.12/site-packages/torch/nn/modules/module.py:1736\u001b[0m, in \u001b[0;36mModule._wrapped_call_impl\u001b[0;34m(self, *args, **kwargs)\u001b[0m\n\u001b[1;32m   1734\u001b[0m     \u001b[38;5;28;01mreturn\u001b[39;00m \u001b[38;5;28mself\u001b[39m\u001b[38;5;241m.\u001b[39m_compiled_call_impl(\u001b[38;5;241m*\u001b[39margs, \u001b[38;5;241m*\u001b[39m\u001b[38;5;241m*\u001b[39mkwargs)  \u001b[38;5;66;03m# type: ignore[misc]\u001b[39;00m\n\u001b[1;32m   1735\u001b[0m \u001b[38;5;28;01melse\u001b[39;00m:\n\u001b[0;32m-> 1736\u001b[0m     \u001b[38;5;28;01mreturn\u001b[39;00m \u001b[38;5;28;43mself\u001b[39;49m\u001b[38;5;241;43m.\u001b[39;49m\u001b[43m_call_impl\u001b[49m\u001b[43m(\u001b[49m\u001b[38;5;241;43m*\u001b[39;49m\u001b[43margs\u001b[49m\u001b[43m,\u001b[49m\u001b[43m \u001b[49m\u001b[38;5;241;43m*\u001b[39;49m\u001b[38;5;241;43m*\u001b[39;49m\u001b[43mkwargs\u001b[49m\u001b[43m)\u001b[49m\n",
      "File \u001b[0;32m/opt/conda/lib/python3.12/site-packages/torch/nn/modules/module.py:1747\u001b[0m, in \u001b[0;36mModule._call_impl\u001b[0;34m(self, *args, **kwargs)\u001b[0m\n\u001b[1;32m   1742\u001b[0m \u001b[38;5;66;03m# If we don't have any hooks, we want to skip the rest of the logic in\u001b[39;00m\n\u001b[1;32m   1743\u001b[0m \u001b[38;5;66;03m# this function, and just call forward.\u001b[39;00m\n\u001b[1;32m   1744\u001b[0m \u001b[38;5;28;01mif\u001b[39;00m \u001b[38;5;129;01mnot\u001b[39;00m (\u001b[38;5;28mself\u001b[39m\u001b[38;5;241m.\u001b[39m_backward_hooks \u001b[38;5;129;01mor\u001b[39;00m \u001b[38;5;28mself\u001b[39m\u001b[38;5;241m.\u001b[39m_backward_pre_hooks \u001b[38;5;129;01mor\u001b[39;00m \u001b[38;5;28mself\u001b[39m\u001b[38;5;241m.\u001b[39m_forward_hooks \u001b[38;5;129;01mor\u001b[39;00m \u001b[38;5;28mself\u001b[39m\u001b[38;5;241m.\u001b[39m_forward_pre_hooks\n\u001b[1;32m   1745\u001b[0m         \u001b[38;5;129;01mor\u001b[39;00m _global_backward_pre_hooks \u001b[38;5;129;01mor\u001b[39;00m _global_backward_hooks\n\u001b[1;32m   1746\u001b[0m         \u001b[38;5;129;01mor\u001b[39;00m _global_forward_hooks \u001b[38;5;129;01mor\u001b[39;00m _global_forward_pre_hooks):\n\u001b[0;32m-> 1747\u001b[0m     \u001b[38;5;28;01mreturn\u001b[39;00m \u001b[43mforward_call\u001b[49m\u001b[43m(\u001b[49m\u001b[38;5;241;43m*\u001b[39;49m\u001b[43margs\u001b[49m\u001b[43m,\u001b[49m\u001b[43m \u001b[49m\u001b[38;5;241;43m*\u001b[39;49m\u001b[38;5;241;43m*\u001b[39;49m\u001b[43mkwargs\u001b[49m\u001b[43m)\u001b[49m\n\u001b[1;32m   1749\u001b[0m result \u001b[38;5;241m=\u001b[39m \u001b[38;5;28;01mNone\u001b[39;00m\n\u001b[1;32m   1750\u001b[0m called_always_called_hooks \u001b[38;5;241m=\u001b[39m \u001b[38;5;28mset\u001b[39m()\n",
      "File \u001b[0;32m/opt/conda/lib/python3.12/site-packages/transformers/models/bert/modeling_bert.py:217\u001b[0m, in \u001b[0;36mBertEmbeddings.forward\u001b[0;34m(self, input_ids, token_type_ids, position_ids, inputs_embeds, past_key_values_length)\u001b[0m\n\u001b[1;32m    215\u001b[0m \u001b[38;5;28;01mif\u001b[39;00m \u001b[38;5;28mself\u001b[39m\u001b[38;5;241m.\u001b[39mposition_embedding_type \u001b[38;5;241m==\u001b[39m \u001b[38;5;124m\"\u001b[39m\u001b[38;5;124mabsolute\u001b[39m\u001b[38;5;124m\"\u001b[39m:\n\u001b[1;32m    216\u001b[0m     position_embeddings \u001b[38;5;241m=\u001b[39m \u001b[38;5;28mself\u001b[39m\u001b[38;5;241m.\u001b[39mposition_embeddings(position_ids)\n\u001b[0;32m--> 217\u001b[0m     \u001b[43membeddings\u001b[49m\u001b[43m \u001b[49m\u001b[38;5;241;43m+\u001b[39;49m\u001b[38;5;241;43m=\u001b[39;49m\u001b[43m \u001b[49m\u001b[43mposition_embeddings\u001b[49m\n\u001b[1;32m    218\u001b[0m embeddings \u001b[38;5;241m=\u001b[39m \u001b[38;5;28mself\u001b[39m\u001b[38;5;241m.\u001b[39mLayerNorm(embeddings)\n\u001b[1;32m    219\u001b[0m embeddings \u001b[38;5;241m=\u001b[39m \u001b[38;5;28mself\u001b[39m\u001b[38;5;241m.\u001b[39mdropout(embeddings)\n",
      "\u001b[0;31mRuntimeError\u001b[0m: The size of tensor a (659) must match the size of tensor b (512) at non-singleton dimension 1"
     ]
    }
   ],
   "source": [
    "# Modify this section to handle both string and list cases for match_indices\n",
    "new_trained_on_norwegian['match_indices'] = new_trained_on_norwegian['match_indices'].apply(\n",
    "    lambda x: [int(i) for i in x.strip('[]').split(',') if isinstance(x, str) and i.strip()] if isinstance(x, str) else x\n",
    ")\n",
    "\n",
    "# Apply the function to each row of the DataFrame and store the results in new columns\n",
    "new_trained_on_norwegian[['sentence_cosine', 'avg_cosine']] = new_trained_on_norwegian.apply(compute_cosine_similarity, axis=1)\n",
    "\n",
    "# Print the DataFrame with cosine similarity values\n",
    "#print(new_norwegian_model_output)"
   ]
  },
  {
   "cell_type": "code",
   "execution_count": null,
   "id": "91bde60f-f7fd-4755-84f1-c6b0c804a97d",
   "metadata": {},
   "outputs": [],
   "source": [
    "new_trained_on_norwegian.to_csv(\"new_trained_on_norwegian.csv\", index=False)"
   ]
  },
  {
   "cell_type": "markdown",
   "id": "69981a9f-16d4-420d-841e-89940ca863b6",
   "metadata": {},
   "source": [
    "## figuring out the standart deviation and average of the norwegian models sentences"
   ]
  },
  {
   "cell_type": "code",
   "execution_count": 46,
   "id": "b25d87ac-1aa5-4ff0-be21-7983f45a5e96",
   "metadata": {},
   "outputs": [],
   "source": [
    "# Assuming your DataFrame is named 'new_norwegian_model_output' and the column is 'match_count'\n",
    "total_match_count = new_norwegian_model_output['match_count'].sum()\n",
    "\n",
    "# Print the total sum\n",
    "#print(\"Total match count:\", total_match_count)\n",
    "#Total match count: 580"
   ]
  },
  {
   "cell_type": "code",
   "execution_count": 47,
   "id": "137d83c0-0dd9-43f3-bd1f-6f52ee46a76f",
   "metadata": {},
   "outputs": [],
   "source": [
    "# If 'Tokens' is a list, count the number of words in the list; if it's a string, split and count words; handle NaN values\n",
    "total_words = new_norwegian_model_output['Tokens'].apply(\n",
    "    lambda x: len(x) if isinstance(x, list) else len(str(x).split()) if isinstance(x, str) else 0\n",
    ").sum()\n",
    "\n",
    "# Print the total word count\n",
    "#print(\"Total number of words:\", total_words)\n",
    "\n",
    "#Total number of words: 29397"
   ]
  },
  {
   "cell_type": "code",
   "execution_count": null,
   "id": "ff768f89-34de-45d1-982b-a0d8f979792f",
   "metadata": {},
   "outputs": [],
   "source": [
    "# Assuming your DataFrame is named 'new_norwegian_model_output' and the column is 'avg_cosine'\n",
    "\n",
    "# Calculate the mean of the 'avg_cosine' column\n",
    "mean_avg_cosine = new_norwegian_model_output['avg_cosine'].mean()\n",
    "mean_avg_cosine2 = new_royal_lib_model_output['avg_cosine'].mean()\n",
    "mean_avg_cosine3 = new_trained_on_fb['avg_cosine'].mean()\n",
    "mean_avg_cosine4 = new_trained_on_norwegian['avg_cosine'].mean()\n",
    "\n",
    "# Calculate the standard deviation of the 'avg_cosine' column\n",
    "std_avg_cosine = new_norwegian_model_output['avg_cosine'].std()\n",
    "std_avg_cosine2 = new_royal_lib_model_output['avg_cosine'].std()\n",
    "std_avg_cosine3 = new_trained_on_fb['avg_cosine'].std()\n",
    "std_avg_cosine4 = new_trained_on_norwegian['avg_cosine'].std()\n",
    "\n",
    "# Print the results\n",
    "print(\"Mean of avg_cosine:\", mean_avg_cosine)\n",
    "print(\"Standard deviation of avg_cosine:\", std_avg_cosine)\n",
    "print(\"Mean of avg_cosine:\", mean_avg_cosine2)\n",
    "print(\"Standard deviation of avg_cosine:\", std_avg_cosine2)\n",
    "print(\"Mean of avg_cosine:\", mean_avg_cosine3)\n",
    "print(\"Standard deviation of avg_cosine:\", std_avg_cosine3)\n",
    "print(\"Mean of avg_cosine:\", mean_avg_cosine4)\n",
    "print(\"Standard deviation of avg_cosine:\", std_avg_cosine4)\n",
    "\n",
    "#norwegian model\n",
    "#Mean of avg_cosine: 0.31973455870254586\n",
    "#Standard deviation of avg_cosine: 0.45186218056261074\n",
    "\n",
    "#royal library model\n",
    "#Mean of avg_cosine: 0.31984295704197285\n",
    "#Standard deviation of avg_cosine: 0.4517970263218057\n",
    "\n",
    "# facebook model \n",
    "#Mean of avg_cosine: 0.3232598393439281\n",
    "#Standard deviation of avg_cosine: 0.4552318044237926"
   ]
  },
  {
   "cell_type": "markdown",
   "id": "e69678d3-95b9-438b-9609-48c7843cd390",
   "metadata": {},
   "source": [
    "## code from a tutorial for visualisation"
   ]
  },
  {
   "cell_type": "code",
   "execution_count": 49,
   "id": "3f0f1a84-6d23-4422-806c-6131e9c693a9",
   "metadata": {},
   "outputs": [
    {
     "data": {
      "application/vnd.jupyter.widget-view+json": {
       "model_id": "056aeab1930144e992a35360e288af4b",
       "version_major": 2,
       "version_minor": 0
      },
      "text/plain": [
       "tokenizer_config.json:   0%|          | 0.00/49.0 [00:00<?, ?B/s]"
      ]
     },
     "metadata": {},
     "output_type": "display_data"
    },
    {
     "data": {
      "application/vnd.jupyter.widget-view+json": {
       "model_id": "cd7382a9442d46c4bda9cead927ef74c",
       "version_major": 2,
       "version_minor": 0
      },
      "text/plain": [
       "config.json:   0%|          | 0.00/570 [00:00<?, ?B/s]"
      ]
     },
     "metadata": {},
     "output_type": "display_data"
    },
    {
     "data": {
      "application/vnd.jupyter.widget-view+json": {
       "model_id": "aa62c0d3876c423b92aca4b95febc44b",
       "version_major": 2,
       "version_minor": 0
      },
      "text/plain": [
       "vocab.txt:   0%|          | 0.00/213k [00:00<?, ?B/s]"
      ]
     },
     "metadata": {},
     "output_type": "display_data"
    },
    {
     "data": {
      "application/vnd.jupyter.widget-view+json": {
       "model_id": "cbbfb1c88789431ba14b34e9a509b0a4",
       "version_major": 2,
       "version_minor": 0
      },
      "text/plain": [
       "tokenizer.json:   0%|          | 0.00/436k [00:00<?, ?B/s]"
      ]
     },
     "metadata": {},
     "output_type": "display_data"
    },
    {
     "data": {
      "application/vnd.jupyter.widget-view+json": {
       "model_id": "f9d1e4b72a3645beb46a7d1f0b1ea62b",
       "version_major": 2,
       "version_minor": 0
      },
      "text/plain": [
       "model.safetensors:   0%|          | 0.00/436M [00:00<?, ?B/s]"
      ]
     },
     "metadata": {},
     "output_type": "display_data"
    }
   ],
   "source": [
    "from transformers import AutoTokenizer, AutoModel\n",
    "import torch\n",
    "import numpy as np\n",
    "\n",
    "tokenizer = AutoTokenizer.from_pretrained('bert-base-cased')\n",
    "model = AutoModel.from_pretrained('bert-base-cased', output_hidden_states=True).eval()"
   ]
  },
  {
   "cell_type": "code",
   "execution_count": 50,
   "id": "9d9d2da5-285b-4d19-ac59-9f62bdf4164d",
   "metadata": {},
   "outputs": [
    {
     "name": "stdout",
     "output_type": "stream",
     "text": [
      "Cosine Similarity between 'bank': 0.5901765823364258\n"
     ]
    }
   ],
   "source": [
    "sent1 = 'He is sitting by the river bank.'\n",
    "sent2 = 'I need to deposit money in canara bank.'\n",
    "tok1 = tokenizer(sent1, return_tensors='pt')\n",
    "tok2 = tokenizer(sent2, return_tensors='pt')\n",
    "\n",
    "# Here, we extract the last hidden states of the model and get the embeddings\n",
    "# for both 'bank' based on the set index\n",
    "\n",
    "sent1_idx = 6  # Position of 'bank' in sent1\n",
    "sent2_idx = 7  # Position of 'bank' in sent2\n",
    "\n",
    "with torch.no_grad():\n",
    "    out1 = model(**tok1)\n",
    "    out2 = model(**tok2)\n",
    "\n",
    "states1 = out1.hidden_states[-1].squeeze()\n",
    "states2 = out2.hidden_states[-1].squeeze()\n",
    "\n",
    "emb1 = states1[sent1_idx]\n",
    "emb2 = states2[sent2_idx]\n",
    "\n",
    "similarity = torch.cosine_similarity(emb1.unsqueeze(0), emb2.unsqueeze(0))\n",
    "print(f\"Cosine Similarity between 'bank': {similarity.item()}\")\n",
    "#Cosine Similarity between 'bank': 0.5901"
   ]
  },
  {
   "cell_type": "code",
   "execution_count": 51,
   "id": "b9fd2b38-a50f-416e-9b44-07b072c9a57a",
   "metadata": {},
   "outputs": [
    {
     "data": {
      "image/png": "[encoded data removed]",
      "text/plain": [
       "<Figure size 640x480 with 1 Axes>"
      ]
     },
     "metadata": {},
     "output_type": "display_data"
    }
   ],
   "source": [
    "def plot_embeddings(embedding1, embedding2, labels):\n",
    "    pca = PCA(n_components=2)\n",
    "    embs = torch.cat([embedding1.unsqueeze(0), embedding2.unsqueeze(0)])\n",
    "    reduced_embs = pca.fit_transform(embs.detach().numpy())\n",
    "\n",
    "    plt.scatter(reduced_embs[:, 0], reduced_embs[:, 1], marker='o')\n",
    "    for i, label in enumerate(labels):\n",
    "        plt.annotate(label, (reduced_embs[i, 0], reduced_embs[i, 1]))\n",
    "    plt.title(\"2D Visualization of Word Embeddings\")\n",
    "    plt.show()\n",
    "\n",
    "plot_embeddings(emb1, emb2, [\"Bank (river)\", \"Bank (financial)\"])"
   ]
  },
  {
   "cell_type": "code",
   "execution_count": 52,
   "id": "43262f12-0d3c-470c-97f7-25bb424d2a43",
   "metadata": {},
   "outputs": [],
   "source": [
    "# nice so it is possible to find out how far apart the meaning of two sentences are, nbow we jsut need to apply that to our datasheet"
   ]
  },
  {
   "cell_type": "markdown",
   "id": "ef22beb6-b6bf-446e-b270-facc6b3941c9",
   "metadata": {},
   "source": [
    "## trying to do this fro my dataframes :"
   ]
  },
  {
   "cell_type": "code",
   "execution_count": 53,
   "id": "ab85abf3-e034-4dcf-8a80-e63b09fdd15e",
   "metadata": {},
   "outputs": [
    {
     "name": "stdout",
     "output_type": "stream",
     "text": [
      "Index(['text', 'Cleaned Text', 'Tokens', 'matches', 'match_indices',\n",
      "       'match_count', 'results', 'Alternative_Sentence', 'sentence_cosine',\n",
      "       'avg_cosine'],\n",
      "      dtype='object')\n"
     ]
    }
   ],
   "source": [
    "print(new_norwegian_model_output.columns)\n"
   ]
  },
  {
   "cell_type": "code",
   "execution_count": 57,
   "id": "7ddac73b-d178-413e-a651-14514b76a167",
   "metadata": {},
   "outputs": [
    {
     "name": "stdout",
     "output_type": "stream",
     "text": [
      "Collecting seaborn\n",
      "  Downloading seaborn-0.13.2-py3-none-any.whl.metadata (5.4 kB)\n",
      "Requirement already satisfied: numpy!=1.24.0,>=1.20 in /opt/conda/lib/python3.12/site-packages (from seaborn) (1.26.4)\n",
      "Requirement already satisfied: pandas>=1.2 in /opt/conda/lib/python3.12/site-packages (from seaborn) (2.2.3)\n",
      "Requirement already satisfied: matplotlib!=3.6.1,>=3.4 in /opt/conda/lib/python3.12/site-packages (from seaborn) (3.9.2)\n",
      "Requirement already satisfied: contourpy>=1.0.1 in /opt/conda/lib/python3.12/site-packages (from matplotlib!=3.6.1,>=3.4->seaborn) (1.3.1)\n",
      "Requirement already satisfied: cycler>=0.10 in /opt/conda/lib/python3.12/site-packages (from matplotlib!=3.6.1,>=3.4->seaborn) (0.12.1)\n",
      "Requirement already satisfied: fonttools>=4.22.0 in /opt/conda/lib/python3.12/site-packages (from matplotlib!=3.6.1,>=3.4->seaborn) (4.55.0)\n",
      "Requirement already satisfied: kiwisolver>=1.3.1 in /opt/conda/lib/python3.12/site-packages (from matplotlib!=3.6.1,>=3.4->seaborn) (1.4.7)\n",
      "Requirement already satisfied: packaging>=20.0 in /opt/conda/lib/python3.12/site-packages (from matplotlib!=3.6.1,>=3.4->seaborn) (24.2)\n",
      "Requirement already satisfied: pillow>=8 in /opt/conda/lib/python3.12/site-packages (from matplotlib!=3.6.1,>=3.4->seaborn) (11.0.0)\n",
      "Requirement already satisfied: pyparsing>=2.3.1 in /opt/conda/lib/python3.12/site-packages (from matplotlib!=3.6.1,>=3.4->seaborn) (3.2.0)\n",
      "Requirement already satisfied: python-dateutil>=2.7 in /opt/conda/lib/python3.12/site-packages (from matplotlib!=3.6.1,>=3.4->seaborn) (2.9.0)\n",
      "Requirement already satisfied: pytz>=2020.1 in /opt/conda/lib/python3.12/site-packages (from pandas>=1.2->seaborn) (2024.2)\n",
      "Requirement already satisfied: tzdata>=2022.7 in /opt/conda/lib/python3.12/site-packages (from pandas>=1.2->seaborn) (2024.2)\n",
      "Requirement already satisfied: six>=1.5 in /opt/conda/lib/python3.12/site-packages (from python-dateutil>=2.7->matplotlib!=3.6.1,>=3.4->seaborn) (1.16.0)\n",
      "Downloading seaborn-0.13.2-py3-none-any.whl (294 kB)\n",
      "Installing collected packages: seaborn\n",
      "Successfully installed seaborn-0.13.2\n"
     ]
    }
   ],
   "source": [
    "!pip install seaborn\n"
   ]
  },
  {
   "cell_type": "code",
   "execution_count": 59,
   "id": "3f7b19b0-8640-43be-9567-199bc0f461f8",
   "metadata": {},
   "outputs": [
    {
     "name": "stderr",
     "output_type": "stream",
     "text": [
      "/tmp/ipykernel_571/763723358.py:11: FutureWarning: \n",
      "\n",
      "`shade` is now deprecated in favor of `fill`; setting `fill=True`.\n",
      "This will become an error in seaborn v0.14.0; please update your code.\n",
      "\n",
      "  sns.kdeplot(cosine_values, shade=True, color=\"blue\", alpha=0.5, bw_adjust=0.5, label=\"Cosine Similarity\")\n"
     ]
    },
    {
     "data": {
      "image/png": "[encoded data removed]",
      "text/plain": [
       "<Figure size 1000x600 with 1 Axes>"
      ]
     },
     "metadata": {},
     "output_type": "display_data"
    }
   ],
   "source": [
    "import matplotlib.pyplot as plt\n",
    "import seaborn as sns\n",
    "\n",
    "# Extract the 'avg_cosine' column from the DataFrame\n",
    "cosine_values = new_norwegian_model_output['avg_cosine']\n",
    "\n",
    "# Create a plot\n",
    "plt.figure(figsize=(10, 6))\n",
    "\n",
    "# Use Seaborn for a KDE plot to show distribution\n",
    "sns.kdeplot(cosine_values, shade=True, color=\"blue\", alpha=0.5, bw_adjust=0.5, label=\"Cosine Similarity\")\n",
    "\n",
    "# Add a title and labels\n",
    "plt.title(\"Distribution of Average Cosine Similarity\", fontsize=16, weight='bold')\n",
    "plt.xlabel(\"Average Cosine Similarity\", fontsize=14)\n",
    "plt.ylabel(\"Density\", fontsize=14)\n",
    "\n",
    "# Show the legend\n",
    "plt.legend()\n",
    "\n",
    "# Show the plot\n",
    "plt.show()\n"
   ]
  },
  {
   "cell_type": "code",
   "execution_count": 60,
   "id": "52fc4cee-5738-4b6d-9bc6-352e376853e2",
   "metadata": {},
   "outputs": [
    {
     "name": "stderr",
     "output_type": "stream",
     "text": [
      "/tmp/ipykernel_571/497294855.py:11: FutureWarning: \n",
      "\n",
      "`shade` is now deprecated in favor of `fill`; setting `fill=True`.\n",
      "This will become an error in seaborn v0.14.0; please update your code.\n",
      "\n",
      "  sns.kdeplot(cosine_values, shade=True, color=\"blue\", alpha=0.5, bw_adjust=0.5, label=\"Cosine Similarity\")\n"
     ]
    },
    {
     "data": {
      "image/png": "[encoded data removed]",
      "text/plain": [
       "<Figure size 1000x600 with 1 Axes>"
      ]
     },
     "metadata": {},
     "output_type": "display_data"
    }
   ],
   "source": [
    "import matplotlib.pyplot as plt\n",
    "import seaborn as sns\n",
    "\n",
    "# Extract the 'avg_cosine' column from the DataFrame\n",
    "cosine_values = new_royal_lib_model_output['avg_cosine']\n",
    "\n",
    "# Create a plot\n",
    "plt.figure(figsize=(10, 6))\n",
    "\n",
    "# Use Seaborn for a KDE plot to show distribution\n",
    "sns.kdeplot(cosine_values, shade=True, color=\"blue\", alpha=0.5, bw_adjust=0.5, label=\"Cosine Similarity\")\n",
    "\n",
    "# Add a title and labels\n",
    "plt.title(\"Distribution of Average Cosine Similarity\", fontsize=16, weight='bold')\n",
    "plt.xlabel(\"Average Cosine Similarity\", fontsize=14)\n",
    "plt.ylabel(\"Density\", fontsize=14)\n",
    "\n",
    "# Show the legend\n",
    "plt.legend()\n",
    "\n",
    "# Show the plot\n",
    "plt.show()\n",
    "\n",
    "#new_trained_on_fb"
   ]
  },
  {
   "cell_type": "code",
   "execution_count": 61,
   "id": "fbc8e018-7fdd-43cd-83cd-cce3133182a0",
   "metadata": {},
   "outputs": [
    {
     "name": "stderr",
     "output_type": "stream",
     "text": [
      "/tmp/ipykernel_571/613286061.py:11: FutureWarning: \n",
      "\n",
      "`shade` is now deprecated in favor of `fill`; setting `fill=True`.\n",
      "This will become an error in seaborn v0.14.0; please update your code.\n",
      "\n",
      "  sns.kdeplot(cosine_values, shade=True, color=\"blue\", alpha=0.5, bw_adjust=0.5, label=\"Cosine Similarity\")\n"
     ]
    },
    {
     "data": {
      "image/png": "[encoded data removed]",
      "text/plain": [
       "<Figure size 1000x600 with 1 Axes>"
      ]
     },
     "metadata": {},
     "output_type": "display_data"
    }
   ],
   "source": [
    "import matplotlib.pyplot as plt\n",
    "import seaborn as sns\n",
    "\n",
    "# Extract the 'avg_cosine' column from the DataFrame\n",
    "cosine_values = new_trained_on_fb['avg_cosine']\n",
    "\n",
    "# Create a plot\n",
    "plt.figure(figsize=(10, 6))\n",
    "\n",
    "# Use Seaborn for a KDE plot to show distribution\n",
    "sns.kdeplot(cosine_values, shade=True, color=\"blue\", alpha=0.5, bw_adjust=0.5, label=\"Cosine Similarity\")\n",
    "\n",
    "# Add a title and labels\n",
    "plt.title(\"Distribution of Average Cosine Similarity\", fontsize=16, weight='bold')\n",
    "plt.xlabel(\"Average Cosine Similarity\", fontsize=14)\n",
    "plt.ylabel(\"Density\", fontsize=14)\n",
    "\n",
    "# Show the legend\n",
    "plt.legend()\n",
    "\n",
    "# Show the plot\n",
    "plt.show()\n",
    "\n",
    "#new_trained_on_fb"
   ]
  }
 ],
 "metadata": {
  "kernelspec": {
   "display_name": "Python 3 ",
   "language": "python",
   "name": "python3"
  },
  "language_info": {
   "codemirror_mode": {
    "name": "ipython",
    "version": 3
   },
   "file_extension": ".py",
   "mimetype": "text/x-python",
   "name": "python",
   "nbconvert_exporter": "python",
   "pygments_lexer": "ipython3",
   "version": "3.12.7"
  }
 },
 "nbformat": 4,
 "nbformat_minor": 5
}
