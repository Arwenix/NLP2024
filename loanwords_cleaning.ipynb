{
 "cells": [
  {
   "cell_type": "markdown",
   "id": "9288bde2-ec8e-4394-9a96-a6558a1517b8",
   "metadata": {},
   "source": [
    "## importing the loanwords file and cleaning it "
   ]
  },
  {
   "cell_type": "code",
   "execution_count": 1,
   "id": "af7cdabd-b2f5-44b8-8612-001f7e587305",
   "metadata": {},
   "outputs": [
    {
     "name": "stdout",
     "output_type": "stream",
     "text": [
      "Requirement already satisfied: pandas in /opt/conda/lib/python3.12/site-packages (2.2.3)\n",
      "Collecting openpyxl\n",
      "  Downloading openpyxl-3.1.5-py2.py3-none-any.whl.metadata (2.5 kB)\n",
      "Requirement already satisfied: numpy>=1.26.0 in /opt/conda/lib/python3.12/site-packages (from pandas) (2.1.3)\n",
      "Requirement already satisfied: python-dateutil>=2.8.2 in /opt/conda/lib/python3.12/site-packages (from pandas) (2.9.0)\n",
      "Requirement already satisfied: pytz>=2020.1 in /opt/conda/lib/python3.12/site-packages (from pandas) (2024.2)\n",
      "Requirement already satisfied: tzdata>=2022.7 in /opt/conda/lib/python3.12/site-packages (from pandas) (2024.2)\n",
      "Collecting et-xmlfile (from openpyxl)\n",
      "  Downloading et_xmlfile-2.0.0-py3-none-any.whl.metadata (2.7 kB)\n",
      "Requirement already satisfied: six>=1.5 in /opt/conda/lib/python3.12/site-packages (from python-dateutil>=2.8.2->pandas) (1.16.0)\n",
      "Downloading openpyxl-3.1.5-py2.py3-none-any.whl (250 kB)\n",
      "Downloading et_xmlfile-2.0.0-py3-none-any.whl (18 kB)\n",
      "Installing collected packages: et-xmlfile, openpyxl\n",
      "Successfully installed et-xmlfile-2.0.0 openpyxl-3.1.5\n",
      "Collecting pyarrow\n",
      "  Downloading pyarrow-18.1.0-cp312-cp312-manylinux_2_28_x86_64.whl.metadata (3.3 kB)\n",
      "Downloading pyarrow-18.1.0-cp312-cp312-manylinux_2_28_x86_64.whl (40.1 MB)\n",
      "\u001b[2K   \u001b[90m━━━━━━━━━━━━━━━━━━━━━━━━━━━━━━━━━━━━━━━━\u001b[0m \u001b[32m40.1/40.1 MB\u001b[0m \u001b[31m51.3 MB/s\u001b[0m eta \u001b[36m0:00:00\u001b[0m:00:01\u001b[0m00:01\u001b[0m\n",
      "\u001b[?25hInstalling collected packages: pyarrow\n",
      "Successfully installed pyarrow-18.1.0\n",
      "Collecting nltk\n",
      "  Downloading nltk-3.9.1-py3-none-any.whl.metadata (2.9 kB)\n",
      "Requirement already satisfied: click in /opt/conda/lib/python3.12/site-packages (from nltk) (8.1.7)\n",
      "Collecting joblib (from nltk)\n",
      "  Downloading joblib-1.4.2-py3-none-any.whl.metadata (5.4 kB)\n",
      "Collecting regex>=2021.8.3 (from nltk)\n",
      "  Downloading regex-2024.11.6-cp312-cp312-manylinux_2_17_x86_64.manylinux2014_x86_64.whl.metadata (40 kB)\n",
      "Requirement already satisfied: tqdm in /opt/conda/lib/python3.12/site-packages (from nltk) (4.67.0)\n",
      "Downloading nltk-3.9.1-py3-none-any.whl (1.5 MB)\n",
      "\u001b[2K   \u001b[90m━━━━━━━━━━━━━━━━━━━━━━━━━━━━━━━━━━━━━━━━\u001b[0m \u001b[32m1.5/1.5 MB\u001b[0m \u001b[31m2.6 MB/s\u001b[0m eta \u001b[36m0:00:00\u001b[0mta \u001b[36m0:00:01\u001b[0m\n",
      "\u001b[?25hDownloading regex-2024.11.6-cp312-cp312-manylinux_2_17_x86_64.manylinux2014_x86_64.whl (796 kB)\n",
      "\u001b[2K   \u001b[90m━━━━━━━━━━━━━━━━━━━━━━━━━━━━━━━━━━━━━━━━\u001b[0m \u001b[32m796.9/796.9 kB\u001b[0m \u001b[31m3.1 MB/s\u001b[0m eta \u001b[36m0:00:00\u001b[0m\n",
      "\u001b[?25hDownloading joblib-1.4.2-py3-none-any.whl (301 kB)\n",
      "Installing collected packages: regex, joblib, nltk\n",
      "Successfully installed joblib-1.4.2 nltk-3.9.1 regex-2024.11.6\n"
     ]
    }
   ],
   "source": [
    "! pip install pandas openpyxl\n",
    "! pip install pyarrow\n",
    "!pip install nltk"
   ]
  },
  {
   "cell_type": "code",
   "execution_count": 2,
   "id": "43ed00bd-ef86-4824-bb94-d7ce4c86ac00",
   "metadata": {},
   "outputs": [],
   "source": [
    "import pandas as pd\n",
    "import matplotlib.pyplot as plt"
   ]
  },
  {
   "cell_type": "code",
   "execution_count": 3,
   "id": "bcd4445c-102a-41db-99e4-5ee23ea63203",
   "metadata": {},
   "outputs": [
    {
     "name": "stdout",
     "output_type": "stream",
     "text": [
      "  Language         Domestic form Transliteration Domestic form variants  \\\n",
      "0   Danish             , anyone?             NaN                    NaN   \n",
      "1   Danish              , du ved             NaN                    NaN   \n",
      "2   Danish              , hej NN             NaN                    NaN   \n",
      "3   Danish         , NP eller ej             NaN                    NaN   \n",
      "4   Danish  , og + {main clause}             NaN                    NaN   \n",
      "\n",
      "        Etymon Full form of acro/abbr    Type of borrowing       Definition  \\\n",
      "0       anyone                    NaN  unadapted borrowing              NaN   \n",
      "1   , you know                    NaN     loan translation              NaN   \n",
      "2      , hi NN                    NaN     loan translation  humorous insult   \n",
      "3  , NP or not                    NaN     loan translation              NaN   \n",
      "4          and                    NaN        semantic loan         and then   \n",
      "\n",
      "            POS  Inflection    Phrasemic type  Gender Pronunciation  \\\n",
      "0  interjection         NaN  discourse marker     NaN           NaN   \n",
      "1         other         NaN               NaN     NaN           NaN   \n",
      "2         other         NaN               NaN     NaN           NaN   \n",
      "3         other         NaN               NaN     NaN           NaN   \n",
      "4         other         NaN               NaN     NaN           NaN   \n",
      "\n",
      "  Compounds and derivations  Frequency  First attestation  Variety Example  \\\n",
      "0                       NaN        NaN             2006.0      NaN     NaN   \n",
      "1                       NaN        NaN                NaN      NaN     NaN   \n",
      "2                       NaN        NaN                NaN      NaN     NaN   \n",
      "3        , pandemi eller ej        NaN                NaN      NaN     NaN   \n",
      "4                       NaN        NaN                NaN      NaN     NaN   \n",
      "\n",
      "  Note PA category  \n",
      "0  NaN         NaN  \n",
      "1  NaN         NaN  \n",
      "2  NaN         NaN  \n",
      "3  NaN         NaN  \n",
      "4  NaN         NaN  \n"
     ]
    },
    {
     "name": "stderr",
     "output_type": "stream",
     "text": [
      "/opt/conda/lib/python3.12/site-packages/openpyxl/worksheet/_reader.py:329: UserWarning: Data Validation extension is not supported and will be removed\n",
      "  warn(msg)\n"
     ]
    }
   ],
   "source": [
    "# Load the Excel file\n",
    "df = pd.read_excel('Dkangliscismer.xlsx', skiprows=2)  # Replace with your file path\n",
    "\n",
    "# Display the first few rows of the dataframe\n",
    "print(df.head())"
   ]
  },
  {
   "cell_type": "code",
   "execution_count": 4,
   "id": "39e5c934-9198-4c0a-814a-4f9f8fa5c49f",
   "metadata": {},
   "outputs": [
    {
     "name": "stdout",
     "output_type": "stream",
     "text": [
      "      Language      Domestic form Transliteration Domestic form variants  \\\n",
      "0       Danish          , anyone?             NaN                    NaN   \n",
      "1       Danish           , du ved             NaN                    NaN   \n",
      "2       Danish             , hej              NaN                    NaN   \n",
      "3       Danish      , NP eller ej             NaN                    NaN   \n",
      "4       Danish  , og  main clause             NaN                    NaN   \n",
      "...        ...                ...             ...                    ...   \n",
      "15647   Danish       ål og rejer!             NaN                    NaN   \n",
      "15648   Danish     ånde  i nakken             NaN                    NaN   \n",
      "15649   Danish    åndelig ejendom             NaN    åndelig ejendomsret   \n",
      "15650   Danish  åndelig grusomhed             NaN                    NaN   \n",
      "15651   Danish       år-til-dato-             NaN                    NaN   \n",
      "\n",
      "                       Etymon Full form of acro/abbr    Type of borrowing  \\\n",
      "0                      anyone                    NaN  unadapted borrowing   \n",
      "1                  , you know                    NaN     loan translation   \n",
      "2                     , hi NN                    NaN     loan translation   \n",
      "3                 , NP or not                    NaN     loan translation   \n",
      "4                         and                    NaN        semantic loan   \n",
      "...                       ...                    ...                  ...   \n",
      "15647              all right!                    NaN    adapted borrowing   \n",
      "15648  breathe down NN's neck                    NaN     loan translation   \n",
      "15649   intellectual property                    NaN     loan translation   \n",
      "15650          mental cruelty                    NaN     loan translation   \n",
      "15651            year-to-date                    NaN     loan translation   \n",
      "\n",
      "               Definition           POS  Inflection    Phrasemic type  Gender  \\\n",
      "0                     NaN  interjection         NaN  discourse marker     NaN   \n",
      "1                     NaN         other         NaN               NaN     NaN   \n",
      "2         humorous insult         other         NaN               NaN     NaN   \n",
      "3                     NaN         other         NaN               NaN     NaN   \n",
      "4                and then         other         NaN               NaN     NaN   \n",
      "...                   ...           ...         ...               ...     ...   \n",
      "15647      humorous reply  interjection         NaN               NaN     NaN   \n",
      "15648                 NaN          verb         NaN               NaN     NaN   \n",
      "15649                 NaN          noun         NaN               NaN     NaN   \n",
      "15650  reason for divorce          noun         NaN               NaN     NaN   \n",
      "15651                 NaN     adjective         NaN               NaN     NaN   \n",
      "\n",
      "      Pronunciation Compounds and derivations  Frequency  First attestation  \\\n",
      "0               NaN                       NaN        NaN             2006.0   \n",
      "1               NaN                       NaN        NaN                NaN   \n",
      "2               NaN                       NaN        NaN                NaN   \n",
      "3               NaN        , pandemi eller ej        NaN                NaN   \n",
      "4               NaN                       NaN        NaN                NaN   \n",
      "...             ...                       ...        ...                ...   \n",
      "15647           NaN                       NaN        NaN                NaN   \n",
      "15648           NaN                       NaN        NaN             1992.0   \n",
      "15649           NaN                       NaN        NaN             1948.0   \n",
      "15650           NaN                       NaN        NaN             1954.0   \n",
      "15651           NaN          år-til-dato-salg        NaN                NaN   \n",
      "\n",
      "       Variety Example Note PA category  \n",
      "0          NaN     NaN  NaN         NaN  \n",
      "1          NaN     NaN  NaN         NaN  \n",
      "2          NaN     NaN  NaN         NaN  \n",
      "3          NaN     NaN  NaN         NaN  \n",
      "4          NaN     NaN  NaN         NaN  \n",
      "...        ...     ...  ...         ...  \n",
      "15647      NaN     NaN  NaN         NaN  \n",
      "15648      NaN     NaN  NaN         NaN  \n",
      "15649      NaN     NaN  NaN         NaN  \n",
      "15650      NaN     NaN  NaN         NaN  \n",
      "15651      NaN     NaN  NaN         NaN  \n",
      "\n",
      "[15652 rows x 20 columns]\n"
     ]
    }
   ],
   "source": [
    "# Remove characters '[]', '.', '+', '{}', 'NN', and numbers from the 'Domestic form' column\n",
    "df['Domestic form'] = df['Domestic form'].str.replace(r'[\\[\\].\\+\\{\\}\\d]', '', regex=True)  # Remove the special characters and numbers\n",
    "df['Domestic form'] = df['Domestic form'].str.replace('NN', '', regex=False)  # Remove 'NN'\n",
    "\n",
    "# Display the updated DataFrame\n",
    "print(df)\n"
   ]
  },
  {
   "cell_type": "code",
   "execution_count": 5,
   "id": "87a5cb43-e3a0-4407-a88d-c79adae4e9aa",
   "metadata": {},
   "outputs": [
    {
     "name": "stdout",
     "output_type": "stream",
     "text": [
      "       Domestic form Domestic form variants       Etymon    Type of borrowing  \\\n",
      "0          , anyone?                    NaN       anyone  unadapted borrowing   \n",
      "1           , du ved                    NaN   , you know     loan translation   \n",
      "2             , hej                     NaN      , hi NN     loan translation   \n",
      "3      , NP eller ej                    NaN  , NP or not     loan translation   \n",
      "4  , og  main clause                    NaN          and        semantic loan   \n",
      "\n",
      "   First attestation  \n",
      "0             2006.0  \n",
      "1                NaN  \n",
      "2                NaN  \n",
      "3                NaN  \n",
      "4                NaN  \n"
     ]
    }
   ],
   "source": [
    "# Specify the columns  to select\n",
    "selected_columns = ['Domestic form', 'Domestic form variants', 'Etymon', 'Type of borrowing' , 'First attestation']  # Replace with actual column names\n",
    "\n",
    "# Create a new DataFrame with only the selected columns\n",
    "df_selected = df[selected_columns]\n",
    "\n",
    "# Display the result\n",
    "print(df_selected.head())"
   ]
  },
  {
   "cell_type": "code",
   "execution_count": 6,
   "id": "65eb97f5-6ed0-4fb5-a52e-8162c293a69a",
   "metadata": {},
   "outputs": [],
   "source": [
    "# Filter DataFrame\n",
    "filtered_df = df_selected[\n",
    "    (df['First attestation'].isna()) |  # Keep rows with no information (NaN)\n",
    "    (df['First attestation'] >= 1945)  # Keep rows where value is 1945 or later\n",
    "]"
   ]
  },
  {
   "cell_type": "code",
   "execution_count": 7,
   "id": "8bbfbfe9-16e6-46f5-a18f-efbff22c3ee2",
   "metadata": {},
   "outputs": [
    {
     "name": "stdout",
     "output_type": "stream",
     "text": [
      "Number of rows removed: 2008\n"
     ]
    }
   ],
   "source": [
    "# Count rows in the original DataFrame\n",
    "original_count = len(df_selected)\n",
    "\n",
    "# Count rows in the filtered DataFrame\n",
    "filtered_count = len(filtered_df)\n",
    "\n",
    "# Calculate the number of removed rows\n",
    "removed_rows = original_count - filtered_count\n",
    "\n",
    "print(f\"Number of rows removed: {removed_rows}\")\n"
   ]
  },
  {
   "cell_type": "code",
   "execution_count": 8,
   "id": "bd25a06c-fa3c-46d1-8f81-49d99894f5f1",
   "metadata": {},
   "outputs": [],
   "source": [
    "# one for unadapted borrowings:\n",
    "\n",
    "unadapted_borrowings = filtered_df[filtered_df['Type of borrowing'] == 'unadapted borrowing']\n",
    "\n",
    "# Display the filtered DataFrame\n",
    "\n"
   ]
  },
  {
   "cell_type": "code",
   "execution_count": 9,
   "id": "d3c19cf8-41a8-41b1-9a8e-b0b2ec8ea0d8",
   "metadata": {},
   "outputs": [
    {
     "name": "stdout",
     "output_type": "stream",
     "text": [
      "           Domestic form Domestic form variants               Etymon  \\\n",
      "0              , anyone?                    NaN               anyone   \n",
      "6              , that is                    NaN           , that is.   \n",
      "7          , The Musical                    NaN        , The Musical   \n",
      "9        minutes of fame                    NaN   15 minutes of fame   \n",
      "13     st century skills                    NaN  21st century skills   \n",
      "...                  ...                    ...                  ...   \n",
      "15592             zoomer                    NaN               zoomer   \n",
      "15594            zorbing                    NaN              zorbing   \n",
      "15595           zucchini                    NaN             zucchini   \n",
      "15596             zydeco                    NaN               zydeco   \n",
      "15597              Z-Z-Z                    NaN                Z-Z-Z   \n",
      "\n",
      "         Type of borrowing  First attestation  \n",
      "0      unadapted borrowing             2006.0  \n",
      "6      unadapted borrowing                NaN  \n",
      "7      unadapted borrowing                NaN  \n",
      "9      unadapted borrowing             1998.0  \n",
      "13     unadapted borrowing                NaN  \n",
      "...                    ...                ...  \n",
      "15592  unadapted borrowing                NaN  \n",
      "15594  unadapted borrowing                NaN  \n",
      "15595  unadapted borrowing                NaN  \n",
      "15596  unadapted borrowing             1980.0  \n",
      "15597  unadapted borrowing                NaN  \n",
      "\n",
      "[6289 rows x 5 columns]\n"
     ]
    }
   ],
   "source": [
    "print(unadapted_borrowings)"
   ]
  },
  {
   "cell_type": "code",
   "execution_count": 10,
   "id": "b7392f21-0336-4366-8019-b9774678cd1a",
   "metadata": {},
   "outputs": [
    {
     "name": "stdout",
     "output_type": "stream",
     "text": [
      "           Domestic form Domestic form variants               Etymon  \\\n",
      "0              , anyone?                    NaN               anyone   \n",
      "6              , that is                    NaN           , that is.   \n",
      "7          , The Musical                    NaN        , The Musical   \n",
      "9        minutes of fame                    NaN   15 minutes of fame   \n",
      "13     st century skills                    NaN  21st century skills   \n",
      "...                  ...                    ...                  ...   \n",
      "15592             zoomer                    NaN               zoomer   \n",
      "15594            zorbing                    NaN              zorbing   \n",
      "15595           zucchini                    NaN             zucchini   \n",
      "15596             zydeco                    NaN               zydeco   \n",
      "15597              Z-Z-Z                    NaN                Z-Z-Z   \n",
      "\n",
      "         Type of borrowing  First attestation  \n",
      "0      unadapted borrowing             2006.0  \n",
      "6      unadapted borrowing                NaN  \n",
      "7      unadapted borrowing                NaN  \n",
      "9      unadapted borrowing             1998.0  \n",
      "13     unadapted borrowing                NaN  \n",
      "...                    ...                ...  \n",
      "15592  unadapted borrowing                NaN  \n",
      "15594  unadapted borrowing                NaN  \n",
      "15595  unadapted borrowing                NaN  \n",
      "15596  unadapted borrowing             1980.0  \n",
      "15597  unadapted borrowing                NaN  \n",
      "\n",
      "[6289 rows x 5 columns]\n"
     ]
    }
   ],
   "source": [
    "selected_loan_types = filtered_df[filtered_df['Type of borrowing'].isin(['unadapted borrowing', 'hybrids', 'Pseudo‐Anglicisms'])]\n",
    "\n",
    "# Display the filtered DataFrame\n",
    "print(selected_loan_types)"
   ]
  },
  {
   "cell_type": "code",
   "execution_count": 11,
   "id": "68b1e1a0-6edf-43c0-9734-d9895b47b7d9",
   "metadata": {},
   "outputs": [],
   "source": [
    "unadapted_borrowings.to_csv('unadapted_borrowings.csv', index=False)"
   ]
  },
  {
   "cell_type": "code",
   "execution_count": 12,
   "id": "1cac5680-dcf3-4fcf-9999-c5c1e33c77e4",
   "metadata": {},
   "outputs": [],
   "source": [
    "selected_loan_types.to_csv('selected_loan_types.csv', index=False)"
   ]
  }
 ],
 "metadata": {
  "kernelspec": {
   "display_name": "Python 3 ",
   "language": "python",
   "name": "python3"
  },
  "language_info": {
   "codemirror_mode": {
    "name": "ipython",
    "version": 3
   },
   "file_extension": ".py",
   "mimetype": "text/x-python",
   "name": "python",
   "nbconvert_exporter": "python",
   "pygments_lexer": "ipython3",
   "version": "3.12.7"
  }
 },
 "nbformat": 4,
 "nbformat_minor": 5
}
